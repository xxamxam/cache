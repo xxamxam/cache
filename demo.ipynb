{
 "cells": [
  {
   "cell_type": "code",
   "execution_count": 6,
   "metadata": {},
   "outputs": [],
   "source": [
    "import pickle\n",
    "import numpy as np\n",
    "import matplotlib.pyplot as plt\n",
    "\n",
    "import pandas as pd\n",
    "import plotly.express as px\n",
    "import plotly.graph_objects as go\n",
    "from collections import defaultdict\n",
    "\n",
    "import plotly.graph_objects as go\n"
   ]
  },
  {
   "cell_type": "code",
   "execution_count": 2,
   "metadata": {},
   "outputs": [],
   "source": [
    "with open('first_exp.pkl', 'rb') as file:\n",
    "    mul_independent = pickle.load(file)\n",
    "\n",
    "with open('second_exp.pkl', 'rb') as file:\n",
    "    mul = pickle.load(file)"
   ]
  },
  {
   "cell_type": "code",
   "execution_count": 17,
   "metadata": {},
   "outputs": [],
   "source": [
    "def best_rez(df):\n",
    "    return np.min(df.values)\n",
    "def get_best_params(dataframe, acc):\n",
    "    ind = np.unravel_index(dataframe.values.argmin(), dataframe.values.shape)\n",
    "    ret = { 'miss_rate': best_rez(dataframe),\n",
    "            'gamma': float(dataframe.columns[ind[1]]), \n",
    "            'beta' : float(dataframe.index[ind[0]]),\n",
    "            'acc': float(acc)\n",
    "        }\n",
    "    return ret\n",
    "\n",
    "def acceleration(lru_best, alg_best):\n",
    "    return ((1 - alg_best) - (1 - lru_best))/(1 - lru_best)\n",
    "\n",
    "mul_dict = mul[2]\n",
    "indep_dict = mul_independent[1]\n",
    "\n",
    "keys = np.array(list(mul_dict.keys() ) )\n",
    "\n",
    "dicts = [mul_dict, indep_dict]\n",
    "accelerations = [0, 0]\n",
    "best_params = [_, _]\n",
    "accepted_keys = []\n",
    "for i, d in enumerate(dicts):\n",
    "    tmp = [d[tuple(key)] for key in keys]\n",
    "    accelerations[i] = [acceleration(elem[0]['LRU_miss_rate'], best_rez(elem[1])) for elem in tmp]\n",
    "    best_params[i]   = [get_best_params(elem[1],acc) for elem, acc in zip(tmp, accelerations[i])]\n",
    "    # for j, key in enumerate(keys):\n",
    "        # tmp_dict[key][i] = accelerations[i][j]\n",
    "accelerations = np.array(accelerations)"
   ]
  },
  {
   "cell_type": "code",
   "execution_count": 4,
   "metadata": {},
   "outputs": [
    {
     "data": {
      "text/html": [
       "<div>\n",
       "<style scoped>\n",
       "    .dataframe tbody tr th:only-of-type {\n",
       "        vertical-align: middle;\n",
       "    }\n",
       "\n",
       "    .dataframe tbody tr th {\n",
       "        vertical-align: top;\n",
       "    }\n",
       "\n",
       "    .dataframe thead th {\n",
       "        text-align: right;\n",
       "    }\n",
       "</style>\n",
       "<table border=\"1\" class=\"dataframe\">\n",
       "  <thead>\n",
       "    <tr style=\"text-align: right;\">\n",
       "      <th></th>\n",
       "      <th>2.00e-01</th>\n",
       "      <th>6.59e-02</th>\n",
       "      <th>2.17e-02</th>\n",
       "      <th>7.17e-03</th>\n",
       "      <th>2.36e-03</th>\n",
       "      <th>7.79e-04</th>\n",
       "      <th>2.57e-04</th>\n",
       "      <th>8.47e-05</th>\n",
       "      <th>2.79e-05</th>\n",
       "      <th>9.20e-06</th>\n",
       "      <th>3.03e-06</th>\n",
       "      <th>1.00e-06</th>\n",
       "    </tr>\n",
       "  </thead>\n",
       "  <tbody>\n",
       "    <tr>\n",
       "      <th>1.01e+00</th>\n",
       "      <td>0.73887</td>\n",
       "      <td>0.74190</td>\n",
       "      <td>0.74425</td>\n",
       "      <td>0.74340</td>\n",
       "      <td>0.74018</td>\n",
       "      <td>0.73359</td>\n",
       "      <td>0.73134</td>\n",
       "      <td>0.73605</td>\n",
       "      <td>0.73082</td>\n",
       "      <td>0.72923</td>\n",
       "      <td>0.73106</td>\n",
       "      <td>0.73193</td>\n",
       "    </tr>\n",
       "    <tr>\n",
       "      <th>1.05e+00</th>\n",
       "      <td>0.73549</td>\n",
       "      <td>0.72069</td>\n",
       "      <td>0.73716</td>\n",
       "      <td>0.75199</td>\n",
       "      <td>0.73743</td>\n",
       "      <td>0.72858</td>\n",
       "      <td>0.72851</td>\n",
       "      <td>0.73275</td>\n",
       "      <td>0.72725</td>\n",
       "      <td>0.72813</td>\n",
       "      <td>0.72830</td>\n",
       "      <td>0.72825</td>\n",
       "    </tr>\n",
       "    <tr>\n",
       "      <th>1.09e+00</th>\n",
       "      <td>0.72019</td>\n",
       "      <td>0.72056</td>\n",
       "      <td>0.72969</td>\n",
       "      <td>0.73849</td>\n",
       "      <td>0.73983</td>\n",
       "      <td>0.73114</td>\n",
       "      <td>0.73086</td>\n",
       "      <td>0.74410</td>\n",
       "      <td>0.72833</td>\n",
       "      <td>0.72776</td>\n",
       "      <td>0.72814</td>\n",
       "      <td>0.72855</td>\n",
       "    </tr>\n",
       "    <tr>\n",
       "      <th>1.13e+00</th>\n",
       "      <td>0.71534</td>\n",
       "      <td>0.71854</td>\n",
       "      <td>0.72231</td>\n",
       "      <td>0.72491</td>\n",
       "      <td>0.73654</td>\n",
       "      <td>0.73820</td>\n",
       "      <td>0.74200</td>\n",
       "      <td>0.72807</td>\n",
       "      <td>0.72764</td>\n",
       "      <td>0.72804</td>\n",
       "      <td>0.72821</td>\n",
       "      <td>0.72816</td>\n",
       "    </tr>\n",
       "    <tr>\n",
       "      <th>1.17e+00</th>\n",
       "      <td>0.71141</td>\n",
       "      <td>0.71704</td>\n",
       "      <td>0.71709</td>\n",
       "      <td>0.71818</td>\n",
       "      <td>0.72985</td>\n",
       "      <td>0.73169</td>\n",
       "      <td>0.73861</td>\n",
       "      <td>0.72794</td>\n",
       "      <td>0.72802</td>\n",
       "      <td>0.72707</td>\n",
       "      <td>0.72857</td>\n",
       "      <td>0.72810</td>\n",
       "    </tr>\n",
       "    <tr>\n",
       "      <th>1.21e+00</th>\n",
       "      <td>0.71186</td>\n",
       "      <td>0.71714</td>\n",
       "      <td>0.71655</td>\n",
       "      <td>0.71371</td>\n",
       "      <td>0.72170</td>\n",
       "      <td>0.72403</td>\n",
       "      <td>0.73121</td>\n",
       "      <td>0.72837</td>\n",
       "      <td>0.72849</td>\n",
       "      <td>0.72749</td>\n",
       "      <td>0.72845</td>\n",
       "      <td>0.72803</td>\n",
       "    </tr>\n",
       "    <tr>\n",
       "      <th>1.25e+00</th>\n",
       "      <td>0.70917</td>\n",
       "      <td>0.71440</td>\n",
       "      <td>0.71187</td>\n",
       "      <td>0.71020</td>\n",
       "      <td>0.71589</td>\n",
       "      <td>0.72082</td>\n",
       "      <td>0.72654</td>\n",
       "      <td>0.72835</td>\n",
       "      <td>0.72840</td>\n",
       "      <td>0.72813</td>\n",
       "      <td>0.72823</td>\n",
       "      <td>0.72793</td>\n",
       "    </tr>\n",
       "    <tr>\n",
       "      <th>1.30e+00</th>\n",
       "      <td>0.70998</td>\n",
       "      <td>0.71198</td>\n",
       "      <td>0.70880</td>\n",
       "      <td>0.70915</td>\n",
       "      <td>0.71327</td>\n",
       "      <td>0.71782</td>\n",
       "      <td>0.72243</td>\n",
       "      <td>0.72825</td>\n",
       "      <td>0.72770</td>\n",
       "      <td>0.72820</td>\n",
       "      <td>0.72758</td>\n",
       "      <td>0.72777</td>\n",
       "    </tr>\n",
       "  </tbody>\n",
       "</table>\n",
       "</div>"
      ],
      "text/plain": [
       "          2.00e-01  6.59e-02  2.17e-02  7.17e-03  2.36e-03  7.79e-04  \\\n",
       "1.01e+00   0.73887   0.74190   0.74425   0.74340   0.74018   0.73359   \n",
       "1.05e+00   0.73549   0.72069   0.73716   0.75199   0.73743   0.72858   \n",
       "1.09e+00   0.72019   0.72056   0.72969   0.73849   0.73983   0.73114   \n",
       "1.13e+00   0.71534   0.71854   0.72231   0.72491   0.73654   0.73820   \n",
       "1.17e+00   0.71141   0.71704   0.71709   0.71818   0.72985   0.73169   \n",
       "1.21e+00   0.71186   0.71714   0.71655   0.71371   0.72170   0.72403   \n",
       "1.25e+00   0.70917   0.71440   0.71187   0.71020   0.71589   0.72082   \n",
       "1.30e+00   0.70998   0.71198   0.70880   0.70915   0.71327   0.71782   \n",
       "\n",
       "          2.57e-04  8.47e-05  2.79e-05  9.20e-06  3.03e-06  1.00e-06  \n",
       "1.01e+00   0.73134   0.73605   0.73082   0.72923   0.73106   0.73193  \n",
       "1.05e+00   0.72851   0.73275   0.72725   0.72813   0.72830   0.72825  \n",
       "1.09e+00   0.73086   0.74410   0.72833   0.72776   0.72814   0.72855  \n",
       "1.13e+00   0.74200   0.72807   0.72764   0.72804   0.72821   0.72816  \n",
       "1.17e+00   0.73861   0.72794   0.72802   0.72707   0.72857   0.72810  \n",
       "1.21e+00   0.73121   0.72837   0.72849   0.72749   0.72845   0.72803  \n",
       "1.25e+00   0.72654   0.72835   0.72840   0.72813   0.72823   0.72793  \n",
       "1.30e+00   0.72243   0.72825   0.72770   0.72820   0.72758   0.72777  "
      ]
     },
     "execution_count": 4,
     "metadata": {},
     "output_type": "execute_result"
    }
   ],
   "source": [
    "mul_dict[(100000, 1000, 10, 0.01, 2)][1]"
   ]
  },
  {
   "cell_type": "code",
   "execution_count": 61,
   "metadata": {},
   "outputs": [
    {
     "data": {
      "application/vnd.plotly.v1+json": {
       "config": {
        "plotlyServerURL": "https://plot.ly"
       },
       "data": [
        {
         "alignmentgroup": "True",
         "hovertemplate": "variable=mean compare<br>value=%{x}<br>x=%{y}<extra></extra>",
         "legendgroup": "mean compare",
         "marker": {
          "color": "#636efa",
          "opacity": 0.8,
          "pattern": {
           "shape": ""
          }
         },
         "name": "mean compare",
         "offsetgroup": "mean compare",
         "orientation": "h",
         "showlegend": true,
         "textfont": {
          "size": 20
         },
         "textposition": "auto",
         "type": "bar",
         "x": [
          0.05204555808656021,
          0.036207052851056194,
          -0.004176742141129622,
          -0.004493787998942731,
          0.07182571939522046,
          0.0528946680606375,
          0.018167534125503104,
          -0.002646115172162944
         ],
         "xaxis": "x",
         "y": [
          "(0.05, 2.0)",
          "(0.05, 4.0)",
          "(0.05, 10.0)",
          "(0.05, 20.0)",
          "(0.1, 2.0)",
          "(0.1, 4.0)",
          "(0.1, 10.0)",
          "(0.1, 20.0)"
         ],
         "yaxis": "y"
        },
        {
         "alignmentgroup": "True",
         "hovertemplate": "variable=independent weight<br>value=%{x}<br>x=%{y}<extra></extra>",
         "legendgroup": "independent weight",
         "marker": {
          "color": "#EF553B",
          "opacity": 0.8,
          "pattern": {
           "shape": ""
          }
         },
         "name": "independent weight",
         "offsetgroup": "independent weight",
         "orientation": "h",
         "showlegend": true,
         "textfont": {
          "size": 20
         },
         "textposition": "auto",
         "type": "bar",
         "x": [
          0.05186165391726792,
          0.008626023657870933,
          -0.005320710406575486,
          -0.009873906282202813,
          0.07779143485573818,
          0.05292243677264145,
          -0.0010748135361367047,
          -0.0023976089598318666
         ],
         "xaxis": "x",
         "y": [
          "(0.05, 2.0)",
          "(0.05, 4.0)",
          "(0.05, 10.0)",
          "(0.05, 20.0)",
          "(0.1, 2.0)",
          "(0.1, 4.0)",
          "(0.1, 10.0)",
          "(0.1, 20.0)"
         ],
         "yaxis": "y"
        }
       ],
       "layout": {
        "barmode": "group",
        "legend": {
         "title": {
          "text": "variable"
         },
         "tracegroupgap": 0
        },
        "margin": {
         "t": 60
        },
        "template": {
         "data": {
          "bar": [
           {
            "error_x": {
             "color": "#2a3f5f"
            },
            "error_y": {
             "color": "#2a3f5f"
            },
            "marker": {
             "line": {
              "color": "#E5ECF6",
              "width": 0.5
             },
             "pattern": {
              "fillmode": "overlay",
              "size": 10,
              "solidity": 0.2
             }
            },
            "type": "bar"
           }
          ],
          "barpolar": [
           {
            "marker": {
             "line": {
              "color": "#E5ECF6",
              "width": 0.5
             },
             "pattern": {
              "fillmode": "overlay",
              "size": 10,
              "solidity": 0.2
             }
            },
            "type": "barpolar"
           }
          ],
          "carpet": [
           {
            "aaxis": {
             "endlinecolor": "#2a3f5f",
             "gridcolor": "white",
             "linecolor": "white",
             "minorgridcolor": "white",
             "startlinecolor": "#2a3f5f"
            },
            "baxis": {
             "endlinecolor": "#2a3f5f",
             "gridcolor": "white",
             "linecolor": "white",
             "minorgridcolor": "white",
             "startlinecolor": "#2a3f5f"
            },
            "type": "carpet"
           }
          ],
          "choropleth": [
           {
            "colorbar": {
             "outlinewidth": 0,
             "ticks": ""
            },
            "type": "choropleth"
           }
          ],
          "contour": [
           {
            "colorbar": {
             "outlinewidth": 0,
             "ticks": ""
            },
            "colorscale": [
             [
              0,
              "#0d0887"
             ],
             [
              0.1111111111111111,
              "#46039f"
             ],
             [
              0.2222222222222222,
              "#7201a8"
             ],
             [
              0.3333333333333333,
              "#9c179e"
             ],
             [
              0.4444444444444444,
              "#bd3786"
             ],
             [
              0.5555555555555556,
              "#d8576b"
             ],
             [
              0.6666666666666666,
              "#ed7953"
             ],
             [
              0.7777777777777778,
              "#fb9f3a"
             ],
             [
              0.8888888888888888,
              "#fdca26"
             ],
             [
              1,
              "#f0f921"
             ]
            ],
            "type": "contour"
           }
          ],
          "contourcarpet": [
           {
            "colorbar": {
             "outlinewidth": 0,
             "ticks": ""
            },
            "type": "contourcarpet"
           }
          ],
          "heatmap": [
           {
            "colorbar": {
             "outlinewidth": 0,
             "ticks": ""
            },
            "colorscale": [
             [
              0,
              "#0d0887"
             ],
             [
              0.1111111111111111,
              "#46039f"
             ],
             [
              0.2222222222222222,
              "#7201a8"
             ],
             [
              0.3333333333333333,
              "#9c179e"
             ],
             [
              0.4444444444444444,
              "#bd3786"
             ],
             [
              0.5555555555555556,
              "#d8576b"
             ],
             [
              0.6666666666666666,
              "#ed7953"
             ],
             [
              0.7777777777777778,
              "#fb9f3a"
             ],
             [
              0.8888888888888888,
              "#fdca26"
             ],
             [
              1,
              "#f0f921"
             ]
            ],
            "type": "heatmap"
           }
          ],
          "heatmapgl": [
           {
            "colorbar": {
             "outlinewidth": 0,
             "ticks": ""
            },
            "colorscale": [
             [
              0,
              "#0d0887"
             ],
             [
              0.1111111111111111,
              "#46039f"
             ],
             [
              0.2222222222222222,
              "#7201a8"
             ],
             [
              0.3333333333333333,
              "#9c179e"
             ],
             [
              0.4444444444444444,
              "#bd3786"
             ],
             [
              0.5555555555555556,
              "#d8576b"
             ],
             [
              0.6666666666666666,
              "#ed7953"
             ],
             [
              0.7777777777777778,
              "#fb9f3a"
             ],
             [
              0.8888888888888888,
              "#fdca26"
             ],
             [
              1,
              "#f0f921"
             ]
            ],
            "type": "heatmapgl"
           }
          ],
          "histogram": [
           {
            "marker": {
             "pattern": {
              "fillmode": "overlay",
              "size": 10,
              "solidity": 0.2
             }
            },
            "type": "histogram"
           }
          ],
          "histogram2d": [
           {
            "colorbar": {
             "outlinewidth": 0,
             "ticks": ""
            },
            "colorscale": [
             [
              0,
              "#0d0887"
             ],
             [
              0.1111111111111111,
              "#46039f"
             ],
             [
              0.2222222222222222,
              "#7201a8"
             ],
             [
              0.3333333333333333,
              "#9c179e"
             ],
             [
              0.4444444444444444,
              "#bd3786"
             ],
             [
              0.5555555555555556,
              "#d8576b"
             ],
             [
              0.6666666666666666,
              "#ed7953"
             ],
             [
              0.7777777777777778,
              "#fb9f3a"
             ],
             [
              0.8888888888888888,
              "#fdca26"
             ],
             [
              1,
              "#f0f921"
             ]
            ],
            "type": "histogram2d"
           }
          ],
          "histogram2dcontour": [
           {
            "colorbar": {
             "outlinewidth": 0,
             "ticks": ""
            },
            "colorscale": [
             [
              0,
              "#0d0887"
             ],
             [
              0.1111111111111111,
              "#46039f"
             ],
             [
              0.2222222222222222,
              "#7201a8"
             ],
             [
              0.3333333333333333,
              "#9c179e"
             ],
             [
              0.4444444444444444,
              "#bd3786"
             ],
             [
              0.5555555555555556,
              "#d8576b"
             ],
             [
              0.6666666666666666,
              "#ed7953"
             ],
             [
              0.7777777777777778,
              "#fb9f3a"
             ],
             [
              0.8888888888888888,
              "#fdca26"
             ],
             [
              1,
              "#f0f921"
             ]
            ],
            "type": "histogram2dcontour"
           }
          ],
          "mesh3d": [
           {
            "colorbar": {
             "outlinewidth": 0,
             "ticks": ""
            },
            "type": "mesh3d"
           }
          ],
          "parcoords": [
           {
            "line": {
             "colorbar": {
              "outlinewidth": 0,
              "ticks": ""
             }
            },
            "type": "parcoords"
           }
          ],
          "pie": [
           {
            "automargin": true,
            "type": "pie"
           }
          ],
          "scatter": [
           {
            "fillpattern": {
             "fillmode": "overlay",
             "size": 10,
             "solidity": 0.2
            },
            "type": "scatter"
           }
          ],
          "scatter3d": [
           {
            "line": {
             "colorbar": {
              "outlinewidth": 0,
              "ticks": ""
             }
            },
            "marker": {
             "colorbar": {
              "outlinewidth": 0,
              "ticks": ""
             }
            },
            "type": "scatter3d"
           }
          ],
          "scattercarpet": [
           {
            "marker": {
             "colorbar": {
              "outlinewidth": 0,
              "ticks": ""
             }
            },
            "type": "scattercarpet"
           }
          ],
          "scattergeo": [
           {
            "marker": {
             "colorbar": {
              "outlinewidth": 0,
              "ticks": ""
             }
            },
            "type": "scattergeo"
           }
          ],
          "scattergl": [
           {
            "marker": {
             "colorbar": {
              "outlinewidth": 0,
              "ticks": ""
             }
            },
            "type": "scattergl"
           }
          ],
          "scattermapbox": [
           {
            "marker": {
             "colorbar": {
              "outlinewidth": 0,
              "ticks": ""
             }
            },
            "type": "scattermapbox"
           }
          ],
          "scatterpolar": [
           {
            "marker": {
             "colorbar": {
              "outlinewidth": 0,
              "ticks": ""
             }
            },
            "type": "scatterpolar"
           }
          ],
          "scatterpolargl": [
           {
            "marker": {
             "colorbar": {
              "outlinewidth": 0,
              "ticks": ""
             }
            },
            "type": "scatterpolargl"
           }
          ],
          "scatterternary": [
           {
            "marker": {
             "colorbar": {
              "outlinewidth": 0,
              "ticks": ""
             }
            },
            "type": "scatterternary"
           }
          ],
          "surface": [
           {
            "colorbar": {
             "outlinewidth": 0,
             "ticks": ""
            },
            "colorscale": [
             [
              0,
              "#0d0887"
             ],
             [
              0.1111111111111111,
              "#46039f"
             ],
             [
              0.2222222222222222,
              "#7201a8"
             ],
             [
              0.3333333333333333,
              "#9c179e"
             ],
             [
              0.4444444444444444,
              "#bd3786"
             ],
             [
              0.5555555555555556,
              "#d8576b"
             ],
             [
              0.6666666666666666,
              "#ed7953"
             ],
             [
              0.7777777777777778,
              "#fb9f3a"
             ],
             [
              0.8888888888888888,
              "#fdca26"
             ],
             [
              1,
              "#f0f921"
             ]
            ],
            "type": "surface"
           }
          ],
          "table": [
           {
            "cells": {
             "fill": {
              "color": "#EBF0F8"
             },
             "line": {
              "color": "white"
             }
            },
            "header": {
             "fill": {
              "color": "#C8D4E3"
             },
             "line": {
              "color": "white"
             }
            },
            "type": "table"
           }
          ]
         },
         "layout": {
          "annotationdefaults": {
           "arrowcolor": "#2a3f5f",
           "arrowhead": 0,
           "arrowwidth": 1
          },
          "autotypenumbers": "strict",
          "coloraxis": {
           "colorbar": {
            "outlinewidth": 0,
            "ticks": ""
           }
          },
          "colorscale": {
           "diverging": [
            [
             0,
             "#8e0152"
            ],
            [
             0.1,
             "#c51b7d"
            ],
            [
             0.2,
             "#de77ae"
            ],
            [
             0.3,
             "#f1b6da"
            ],
            [
             0.4,
             "#fde0ef"
            ],
            [
             0.5,
             "#f7f7f7"
            ],
            [
             0.6,
             "#e6f5d0"
            ],
            [
             0.7,
             "#b8e186"
            ],
            [
             0.8,
             "#7fbc41"
            ],
            [
             0.9,
             "#4d9221"
            ],
            [
             1,
             "#276419"
            ]
           ],
           "sequential": [
            [
             0,
             "#0d0887"
            ],
            [
             0.1111111111111111,
             "#46039f"
            ],
            [
             0.2222222222222222,
             "#7201a8"
            ],
            [
             0.3333333333333333,
             "#9c179e"
            ],
            [
             0.4444444444444444,
             "#bd3786"
            ],
            [
             0.5555555555555556,
             "#d8576b"
            ],
            [
             0.6666666666666666,
             "#ed7953"
            ],
            [
             0.7777777777777778,
             "#fb9f3a"
            ],
            [
             0.8888888888888888,
             "#fdca26"
            ],
            [
             1,
             "#f0f921"
            ]
           ],
           "sequentialminus": [
            [
             0,
             "#0d0887"
            ],
            [
             0.1111111111111111,
             "#46039f"
            ],
            [
             0.2222222222222222,
             "#7201a8"
            ],
            [
             0.3333333333333333,
             "#9c179e"
            ],
            [
             0.4444444444444444,
             "#bd3786"
            ],
            [
             0.5555555555555556,
             "#d8576b"
            ],
            [
             0.6666666666666666,
             "#ed7953"
            ],
            [
             0.7777777777777778,
             "#fb9f3a"
            ],
            [
             0.8888888888888888,
             "#fdca26"
            ],
            [
             1,
             "#f0f921"
            ]
           ]
          },
          "colorway": [
           "#636efa",
           "#EF553B",
           "#00cc96",
           "#ab63fa",
           "#FFA15A",
           "#19d3f3",
           "#FF6692",
           "#B6E880",
           "#FF97FF",
           "#FECB52"
          ],
          "font": {
           "color": "#2a3f5f"
          },
          "geo": {
           "bgcolor": "white",
           "lakecolor": "white",
           "landcolor": "#E5ECF6",
           "showlakes": true,
           "showland": true,
           "subunitcolor": "white"
          },
          "hoverlabel": {
           "align": "left"
          },
          "hovermode": "closest",
          "mapbox": {
           "style": "light"
          },
          "paper_bgcolor": "white",
          "plot_bgcolor": "#E5ECF6",
          "polar": {
           "angularaxis": {
            "gridcolor": "white",
            "linecolor": "white",
            "ticks": ""
           },
           "bgcolor": "#E5ECF6",
           "radialaxis": {
            "gridcolor": "white",
            "linecolor": "white",
            "ticks": ""
           }
          },
          "scene": {
           "xaxis": {
            "backgroundcolor": "#E5ECF6",
            "gridcolor": "white",
            "gridwidth": 2,
            "linecolor": "white",
            "showbackground": true,
            "ticks": "",
            "zerolinecolor": "white"
           },
           "yaxis": {
            "backgroundcolor": "#E5ECF6",
            "gridcolor": "white",
            "gridwidth": 2,
            "linecolor": "white",
            "showbackground": true,
            "ticks": "",
            "zerolinecolor": "white"
           },
           "zaxis": {
            "backgroundcolor": "#E5ECF6",
            "gridcolor": "white",
            "gridwidth": 2,
            "linecolor": "white",
            "showbackground": true,
            "ticks": "",
            "zerolinecolor": "white"
           }
          },
          "shapedefaults": {
           "line": {
            "color": "#2a3f5f"
           }
          },
          "ternary": {
           "aaxis": {
            "gridcolor": "white",
            "linecolor": "white",
            "ticks": ""
           },
           "baxis": {
            "gridcolor": "white",
            "linecolor": "white",
            "ticks": ""
           },
           "bgcolor": "#E5ECF6",
           "caxis": {
            "gridcolor": "white",
            "linecolor": "white",
            "ticks": ""
           }
          },
          "title": {
           "x": 0.05
          },
          "xaxis": {
           "automargin": true,
           "gridcolor": "white",
           "linecolor": "white",
           "ticks": "",
           "title": {
            "standoff": 15
           },
           "zerolinecolor": "white",
           "zerolinewidth": 2
          },
          "yaxis": {
           "automargin": true,
           "gridcolor": "white",
           "linecolor": "white",
           "ticks": "",
           "title": {
            "standoff": 15
           },
           "zerolinecolor": "white",
           "zerolinewidth": 2
          }
         }
        },
        "xaxis": {
         "anchor": "y",
         "domain": [
          0,
          1
         ],
         "title": {
          "text": "value"
         }
        },
        "yaxis": {
         "anchor": "x",
         "domain": [
          0,
          1
         ],
         "title": {
          "text": "x"
         }
        }
       }
      }
     },
     "metadata": {},
     "output_type": "display_data"
    }
   ],
   "source": [
    "df = pd.DataFrame()\n",
    "\n",
    "filter_ind = (keys[:, 2] == 100) & (keys[:, 1] == 1000) & (keys[:, 3] > 0.01)\n",
    "\n",
    "df['x'] = [ str(tuple(tt[3:])) for tt in keys[filter_ind]]\n",
    "df['mean compare'] = accelerations[0][filter_ind]\n",
    "df['independent weight'] = accelerations[1][filter_ind] \n",
    "mmin = np.min(accelerations[:,filter_ind])\n",
    "mmax = np.max(accelerations)\n",
    "# fig = plt.Figure(figsize=(20, 15))\n",
    "fig = px.bar(data_frame= df, y = 'x' , x =  ['mean compare', 'independent weight'], \\\n",
    "            orientation='h', barmode='group', opacity= 0.8) #, title=\"Algorithms acceleration with n_iters = 10^5, N = 1000, k = 100\") \n",
    "fig = fig.update_traces(textfont_size=20)\n",
    "fig.show()"
   ]
  },
  {
   "cell_type": "markdown",
   "metadata": {},
   "source": [
    "1) ускорить работу алгоритма\n",
    "2) найти датасет\n",
    "3) подумать над подбором параметров\n",
    "4) как поддерживать перцентиль в онлайн режиме\n",
    "50"
   ]
  },
  {
   "cell_type": "markdown",
   "metadata": {},
   "source": [
    "## best parameters"
   ]
  },
  {
   "cell_type": "code",
   "execution_count": 19,
   "metadata": {},
   "outputs": [],
   "source": [
    "def describe_metr(elem):\n",
    "    # print(elem)\n",
    "    return {'acc': elem['acc'],\n",
    "            'metrics': -np.log(elem['beta'])/ np.log(1 - elem['gamma'])\n",
    "            }\n",
    "param_metr = [[describe_metr(elem) for elem in dct] for dct in best_params] "
   ]
  },
  {
   "cell_type": "code",
   "execution_count": 49,
   "metadata": {},
   "outputs": [
    {
     "data": {
      "application/vnd.plotly.v1+json": {
       "config": {
        "plotlyServerURL": "https://plot.ly"
       },
       "data": [
        {
         "alignmentgroup": "True",
         "hovertemplate": "variable=mean compare<br>value=%{x}<br>x=%{y}<extra></extra>",
         "legendgroup": "mean compare",
         "marker": {
          "color": "#636efa",
          "opacity": 0.8,
          "pattern": {
           "shape": ""
          }
         },
         "name": "mean compare",
         "offsetgroup": "mean compare",
         "orientation": "h",
         "showlegend": true,
         "textposition": "auto",
         "type": "bar",
         "x": [
          11.958857306053872,
          11.958857306053872,
          0.14595967478163982,
          4.211264762297998,
          336.6650324949122,
          11.958857306053872,
          11.958857306053872,
          3.848575819346398
         ],
         "xaxis": "x",
         "y": [
          "(1000.0, 100.0, 0.05, 2.0)",
          "(1000.0, 100.0, 0.05, 4.0)",
          "(1000.0, 100.0, 0.05, 10.0)",
          "(1000.0, 100.0, 0.05, 20.0)",
          "(1000.0, 100.0, 0.1, 2.0)",
          "(1000.0, 100.0, 0.1, 4.0)",
          "(1000.0, 100.0, 0.1, 10.0)",
          "(1000.0, 100.0, 0.1, 20.0)"
         ],
         "yaxis": "y"
        },
        {
         "alignmentgroup": "True",
         "hovertemplate": "variable=independent weight<br>value=%{x}<br>x=%{y}<extra></extra>",
         "legendgroup": "independent weight",
         "marker": {
          "color": "#EF553B",
          "opacity": 0.8,
          "pattern": {
           "shape": ""
          }
         },
         "name": "independent weight",
         "offsetgroup": "independent weight",
         "orientation": "h",
         "showlegend": true,
         "textposition": "auto",
         "type": "bar",
         "x": [
          316.69593112322445,
          371.72290573475965,
          7.707776355389018,
          1.9193328054731036,
          316.69593112322445,
          371.72290573475965,
          146.1576548018099,
          49.733195578828905
         ],
         "xaxis": "x",
         "y": [
          "(1000.0, 100.0, 0.05, 2.0)",
          "(1000.0, 100.0, 0.05, 4.0)",
          "(1000.0, 100.0, 0.05, 10.0)",
          "(1000.0, 100.0, 0.05, 20.0)",
          "(1000.0, 100.0, 0.1, 2.0)",
          "(1000.0, 100.0, 0.1, 4.0)",
          "(1000.0, 100.0, 0.1, 10.0)",
          "(1000.0, 100.0, 0.1, 20.0)"
         ],
         "yaxis": "y"
        }
       ],
       "layout": {
        "barmode": "group",
        "legend": {
         "title": {
          "text": "variable"
         },
         "tracegroupgap": 0
        },
        "margin": {
         "t": 60
        },
        "template": {
         "data": {
          "bar": [
           {
            "error_x": {
             "color": "#2a3f5f"
            },
            "error_y": {
             "color": "#2a3f5f"
            },
            "marker": {
             "line": {
              "color": "#E5ECF6",
              "width": 0.5
             },
             "pattern": {
              "fillmode": "overlay",
              "size": 10,
              "solidity": 0.2
             }
            },
            "type": "bar"
           }
          ],
          "barpolar": [
           {
            "marker": {
             "line": {
              "color": "#E5ECF6",
              "width": 0.5
             },
             "pattern": {
              "fillmode": "overlay",
              "size": 10,
              "solidity": 0.2
             }
            },
            "type": "barpolar"
           }
          ],
          "carpet": [
           {
            "aaxis": {
             "endlinecolor": "#2a3f5f",
             "gridcolor": "white",
             "linecolor": "white",
             "minorgridcolor": "white",
             "startlinecolor": "#2a3f5f"
            },
            "baxis": {
             "endlinecolor": "#2a3f5f",
             "gridcolor": "white",
             "linecolor": "white",
             "minorgridcolor": "white",
             "startlinecolor": "#2a3f5f"
            },
            "type": "carpet"
           }
          ],
          "choropleth": [
           {
            "colorbar": {
             "outlinewidth": 0,
             "ticks": ""
            },
            "type": "choropleth"
           }
          ],
          "contour": [
           {
            "colorbar": {
             "outlinewidth": 0,
             "ticks": ""
            },
            "colorscale": [
             [
              0,
              "#0d0887"
             ],
             [
              0.1111111111111111,
              "#46039f"
             ],
             [
              0.2222222222222222,
              "#7201a8"
             ],
             [
              0.3333333333333333,
              "#9c179e"
             ],
             [
              0.4444444444444444,
              "#bd3786"
             ],
             [
              0.5555555555555556,
              "#d8576b"
             ],
             [
              0.6666666666666666,
              "#ed7953"
             ],
             [
              0.7777777777777778,
              "#fb9f3a"
             ],
             [
              0.8888888888888888,
              "#fdca26"
             ],
             [
              1,
              "#f0f921"
             ]
            ],
            "type": "contour"
           }
          ],
          "contourcarpet": [
           {
            "colorbar": {
             "outlinewidth": 0,
             "ticks": ""
            },
            "type": "contourcarpet"
           }
          ],
          "heatmap": [
           {
            "colorbar": {
             "outlinewidth": 0,
             "ticks": ""
            },
            "colorscale": [
             [
              0,
              "#0d0887"
             ],
             [
              0.1111111111111111,
              "#46039f"
             ],
             [
              0.2222222222222222,
              "#7201a8"
             ],
             [
              0.3333333333333333,
              "#9c179e"
             ],
             [
              0.4444444444444444,
              "#bd3786"
             ],
             [
              0.5555555555555556,
              "#d8576b"
             ],
             [
              0.6666666666666666,
              "#ed7953"
             ],
             [
              0.7777777777777778,
              "#fb9f3a"
             ],
             [
              0.8888888888888888,
              "#fdca26"
             ],
             [
              1,
              "#f0f921"
             ]
            ],
            "type": "heatmap"
           }
          ],
          "heatmapgl": [
           {
            "colorbar": {
             "outlinewidth": 0,
             "ticks": ""
            },
            "colorscale": [
             [
              0,
              "#0d0887"
             ],
             [
              0.1111111111111111,
              "#46039f"
             ],
             [
              0.2222222222222222,
              "#7201a8"
             ],
             [
              0.3333333333333333,
              "#9c179e"
             ],
             [
              0.4444444444444444,
              "#bd3786"
             ],
             [
              0.5555555555555556,
              "#d8576b"
             ],
             [
              0.6666666666666666,
              "#ed7953"
             ],
             [
              0.7777777777777778,
              "#fb9f3a"
             ],
             [
              0.8888888888888888,
              "#fdca26"
             ],
             [
              1,
              "#f0f921"
             ]
            ],
            "type": "heatmapgl"
           }
          ],
          "histogram": [
           {
            "marker": {
             "pattern": {
              "fillmode": "overlay",
              "size": 10,
              "solidity": 0.2
             }
            },
            "type": "histogram"
           }
          ],
          "histogram2d": [
           {
            "colorbar": {
             "outlinewidth": 0,
             "ticks": ""
            },
            "colorscale": [
             [
              0,
              "#0d0887"
             ],
             [
              0.1111111111111111,
              "#46039f"
             ],
             [
              0.2222222222222222,
              "#7201a8"
             ],
             [
              0.3333333333333333,
              "#9c179e"
             ],
             [
              0.4444444444444444,
              "#bd3786"
             ],
             [
              0.5555555555555556,
              "#d8576b"
             ],
             [
              0.6666666666666666,
              "#ed7953"
             ],
             [
              0.7777777777777778,
              "#fb9f3a"
             ],
             [
              0.8888888888888888,
              "#fdca26"
             ],
             [
              1,
              "#f0f921"
             ]
            ],
            "type": "histogram2d"
           }
          ],
          "histogram2dcontour": [
           {
            "colorbar": {
             "outlinewidth": 0,
             "ticks": ""
            },
            "colorscale": [
             [
              0,
              "#0d0887"
             ],
             [
              0.1111111111111111,
              "#46039f"
             ],
             [
              0.2222222222222222,
              "#7201a8"
             ],
             [
              0.3333333333333333,
              "#9c179e"
             ],
             [
              0.4444444444444444,
              "#bd3786"
             ],
             [
              0.5555555555555556,
              "#d8576b"
             ],
             [
              0.6666666666666666,
              "#ed7953"
             ],
             [
              0.7777777777777778,
              "#fb9f3a"
             ],
             [
              0.8888888888888888,
              "#fdca26"
             ],
             [
              1,
              "#f0f921"
             ]
            ],
            "type": "histogram2dcontour"
           }
          ],
          "mesh3d": [
           {
            "colorbar": {
             "outlinewidth": 0,
             "ticks": ""
            },
            "type": "mesh3d"
           }
          ],
          "parcoords": [
           {
            "line": {
             "colorbar": {
              "outlinewidth": 0,
              "ticks": ""
             }
            },
            "type": "parcoords"
           }
          ],
          "pie": [
           {
            "automargin": true,
            "type": "pie"
           }
          ],
          "scatter": [
           {
            "fillpattern": {
             "fillmode": "overlay",
             "size": 10,
             "solidity": 0.2
            },
            "type": "scatter"
           }
          ],
          "scatter3d": [
           {
            "line": {
             "colorbar": {
              "outlinewidth": 0,
              "ticks": ""
             }
            },
            "marker": {
             "colorbar": {
              "outlinewidth": 0,
              "ticks": ""
             }
            },
            "type": "scatter3d"
           }
          ],
          "scattercarpet": [
           {
            "marker": {
             "colorbar": {
              "outlinewidth": 0,
              "ticks": ""
             }
            },
            "type": "scattercarpet"
           }
          ],
          "scattergeo": [
           {
            "marker": {
             "colorbar": {
              "outlinewidth": 0,
              "ticks": ""
             }
            },
            "type": "scattergeo"
           }
          ],
          "scattergl": [
           {
            "marker": {
             "colorbar": {
              "outlinewidth": 0,
              "ticks": ""
             }
            },
            "type": "scattergl"
           }
          ],
          "scattermapbox": [
           {
            "marker": {
             "colorbar": {
              "outlinewidth": 0,
              "ticks": ""
             }
            },
            "type": "scattermapbox"
           }
          ],
          "scatterpolar": [
           {
            "marker": {
             "colorbar": {
              "outlinewidth": 0,
              "ticks": ""
             }
            },
            "type": "scatterpolar"
           }
          ],
          "scatterpolargl": [
           {
            "marker": {
             "colorbar": {
              "outlinewidth": 0,
              "ticks": ""
             }
            },
            "type": "scatterpolargl"
           }
          ],
          "scatterternary": [
           {
            "marker": {
             "colorbar": {
              "outlinewidth": 0,
              "ticks": ""
             }
            },
            "type": "scatterternary"
           }
          ],
          "surface": [
           {
            "colorbar": {
             "outlinewidth": 0,
             "ticks": ""
            },
            "colorscale": [
             [
              0,
              "#0d0887"
             ],
             [
              0.1111111111111111,
              "#46039f"
             ],
             [
              0.2222222222222222,
              "#7201a8"
             ],
             [
              0.3333333333333333,
              "#9c179e"
             ],
             [
              0.4444444444444444,
              "#bd3786"
             ],
             [
              0.5555555555555556,
              "#d8576b"
             ],
             [
              0.6666666666666666,
              "#ed7953"
             ],
             [
              0.7777777777777778,
              "#fb9f3a"
             ],
             [
              0.8888888888888888,
              "#fdca26"
             ],
             [
              1,
              "#f0f921"
             ]
            ],
            "type": "surface"
           }
          ],
          "table": [
           {
            "cells": {
             "fill": {
              "color": "#EBF0F8"
             },
             "line": {
              "color": "white"
             }
            },
            "header": {
             "fill": {
              "color": "#C8D4E3"
             },
             "line": {
              "color": "white"
             }
            },
            "type": "table"
           }
          ]
         },
         "layout": {
          "annotationdefaults": {
           "arrowcolor": "#2a3f5f",
           "arrowhead": 0,
           "arrowwidth": 1
          },
          "autotypenumbers": "strict",
          "coloraxis": {
           "colorbar": {
            "outlinewidth": 0,
            "ticks": ""
           }
          },
          "colorscale": {
           "diverging": [
            [
             0,
             "#8e0152"
            ],
            [
             0.1,
             "#c51b7d"
            ],
            [
             0.2,
             "#de77ae"
            ],
            [
             0.3,
             "#f1b6da"
            ],
            [
             0.4,
             "#fde0ef"
            ],
            [
             0.5,
             "#f7f7f7"
            ],
            [
             0.6,
             "#e6f5d0"
            ],
            [
             0.7,
             "#b8e186"
            ],
            [
             0.8,
             "#7fbc41"
            ],
            [
             0.9,
             "#4d9221"
            ],
            [
             1,
             "#276419"
            ]
           ],
           "sequential": [
            [
             0,
             "#0d0887"
            ],
            [
             0.1111111111111111,
             "#46039f"
            ],
            [
             0.2222222222222222,
             "#7201a8"
            ],
            [
             0.3333333333333333,
             "#9c179e"
            ],
            [
             0.4444444444444444,
             "#bd3786"
            ],
            [
             0.5555555555555556,
             "#d8576b"
            ],
            [
             0.6666666666666666,
             "#ed7953"
            ],
            [
             0.7777777777777778,
             "#fb9f3a"
            ],
            [
             0.8888888888888888,
             "#fdca26"
            ],
            [
             1,
             "#f0f921"
            ]
           ],
           "sequentialminus": [
            [
             0,
             "#0d0887"
            ],
            [
             0.1111111111111111,
             "#46039f"
            ],
            [
             0.2222222222222222,
             "#7201a8"
            ],
            [
             0.3333333333333333,
             "#9c179e"
            ],
            [
             0.4444444444444444,
             "#bd3786"
            ],
            [
             0.5555555555555556,
             "#d8576b"
            ],
            [
             0.6666666666666666,
             "#ed7953"
            ],
            [
             0.7777777777777778,
             "#fb9f3a"
            ],
            [
             0.8888888888888888,
             "#fdca26"
            ],
            [
             1,
             "#f0f921"
            ]
           ]
          },
          "colorway": [
           "#636efa",
           "#EF553B",
           "#00cc96",
           "#ab63fa",
           "#FFA15A",
           "#19d3f3",
           "#FF6692",
           "#B6E880",
           "#FF97FF",
           "#FECB52"
          ],
          "font": {
           "color": "#2a3f5f"
          },
          "geo": {
           "bgcolor": "white",
           "lakecolor": "white",
           "landcolor": "#E5ECF6",
           "showlakes": true,
           "showland": true,
           "subunitcolor": "white"
          },
          "hoverlabel": {
           "align": "left"
          },
          "hovermode": "closest",
          "mapbox": {
           "style": "light"
          },
          "paper_bgcolor": "white",
          "plot_bgcolor": "#E5ECF6",
          "polar": {
           "angularaxis": {
            "gridcolor": "white",
            "linecolor": "white",
            "ticks": ""
           },
           "bgcolor": "#E5ECF6",
           "radialaxis": {
            "gridcolor": "white",
            "linecolor": "white",
            "ticks": ""
           }
          },
          "scene": {
           "xaxis": {
            "backgroundcolor": "#E5ECF6",
            "gridcolor": "white",
            "gridwidth": 2,
            "linecolor": "white",
            "showbackground": true,
            "ticks": "",
            "zerolinecolor": "white"
           },
           "yaxis": {
            "backgroundcolor": "#E5ECF6",
            "gridcolor": "white",
            "gridwidth": 2,
            "linecolor": "white",
            "showbackground": true,
            "ticks": "",
            "zerolinecolor": "white"
           },
           "zaxis": {
            "backgroundcolor": "#E5ECF6",
            "gridcolor": "white",
            "gridwidth": 2,
            "linecolor": "white",
            "showbackground": true,
            "ticks": "",
            "zerolinecolor": "white"
           }
          },
          "shapedefaults": {
           "line": {
            "color": "#2a3f5f"
           }
          },
          "ternary": {
           "aaxis": {
            "gridcolor": "white",
            "linecolor": "white",
            "ticks": ""
           },
           "baxis": {
            "gridcolor": "white",
            "linecolor": "white",
            "ticks": ""
           },
           "bgcolor": "#E5ECF6",
           "caxis": {
            "gridcolor": "white",
            "linecolor": "white",
            "ticks": ""
           }
          },
          "title": {
           "x": 0.05
          },
          "xaxis": {
           "automargin": true,
           "gridcolor": "white",
           "linecolor": "white",
           "ticks": "",
           "title": {
            "standoff": 15
           },
           "zerolinecolor": "white",
           "zerolinewidth": 2
          },
          "yaxis": {
           "automargin": true,
           "gridcolor": "white",
           "linecolor": "white",
           "ticks": "",
           "title": {
            "standoff": 15
           },
           "zerolinecolor": "white",
           "zerolinewidth": 2
          }
         }
        },
        "xaxis": {
         "anchor": "y",
         "domain": [
          0,
          1
         ],
         "title": {
          "text": "value"
         }
        },
        "yaxis": {
         "anchor": "x",
         "domain": [
          0,
          1
         ],
         "title": {
          "text": "x"
         }
        }
       }
      }
     },
     "metadata": {},
     "output_type": "display_data"
    }
   ],
   "source": [
    "df = pd.DataFrame()\n",
    "\n",
    "filter_ind = (keys[:, 2] == 100) & (keys[:, 1] == 1000) & (keys[:, 3] > 0.01)\n",
    "\n",
    "df['x'] = [ str(tuple(tt[1:])) for tt in keys[filter_ind]]\n",
    "df['mean compare'] = [param_metr[0][ind]['metrics'] for ind in np.where(filter_ind != 0)[0] ]\n",
    "df['independent weight'] =  [param_metr[1][ind]['metrics'] for ind in np.where(filter_ind != 0)[0] ]\n",
    "mmin = np.min(accelerations[:,filter_ind])\n",
    "mmax = np.max(accelerations)\n",
    "# fig = plt.Figure(figsize=(20, 15))\n",
    "px.bar(data_frame= df, y = 'x' , x =  [ 'mean compare', 'independent weight'], \\\n",
    "            orientation='h', barmode='group', opacity= 0.8) "
   ]
  },
  {
   "cell_type": "code",
   "execution_count": 45,
   "metadata": {},
   "outputs": [
    {
     "data": {
      "text/plain": [
       "[{'miss_rate': 0.41973,\n",
       "  'gamma': 0.00158,\n",
       "  'beta': 1.65,\n",
       "  'acc': 0.05186165391726792},\n",
       " {'miss_rate': 0.44576,\n",
       "  'gamma': 0.00158,\n",
       "  'beta': 1.8,\n",
       "  'acc': 0.008626023657870933},\n",
       " {'miss_rate': 0.45786,\n",
       "  'gamma': 0.00631,\n",
       "  'beta': 1.05,\n",
       "  'acc': -0.005320710406575486},\n",
       " {'miss_rate': 0.47154,\n",
       "  'gamma': 0.0251,\n",
       "  'beta': 1.05,\n",
       "  'acc': -0.009873906282202813},\n",
       " {'miss_rate': 0.66679,\n",
       "  'gamma': 0.00158,\n",
       "  'beta': 1.65,\n",
       "  'acc': 0.07779143485573818},\n",
       " {'miss_rate': 0.6761,\n",
       "  'gamma': 0.00158,\n",
       "  'beta': 1.8,\n",
       "  'acc': 0.05292243677264145},\n",
       " {'miss_rate': 0.6933,\n",
       "  'gamma': 0.00158,\n",
       "  'beta': 1.26,\n",
       "  'acc': -0.0010748135361367047},\n",
       " {'miss_rate': 0.69626,\n",
       "  'gamma': 0.00631,\n",
       "  'beta': 1.37,\n",
       "  'acc': -0.0023976089598318666}]"
      ]
     },
     "execution_count": 45,
     "metadata": {},
     "output_type": "execute_result"
    }
   ],
   "source": [
    "[best_params[1][ind] for ind in np.where(filter_ind != 0)[0]]"
   ]
  },
  {
   "cell_type": "code",
   "execution_count": 54,
   "metadata": {},
   "outputs": [
    {
     "data": {
      "text/plain": [
       "array([[1.e+05, 1.e+03, 1.e+02, 5.e-02, 2.e+00],\n",
       "       [1.e+05, 1.e+03, 1.e+02, 5.e-02, 4.e+00],\n",
       "       [1.e+05, 1.e+03, 1.e+02, 5.e-02, 1.e+01],\n",
       "       [1.e+05, 1.e+03, 1.e+02, 5.e-02, 2.e+01],\n",
       "       [1.e+05, 1.e+03, 1.e+02, 1.e-01, 2.e+00],\n",
       "       [1.e+05, 1.e+03, 1.e+02, 1.e-01, 4.e+00],\n",
       "       [1.e+05, 1.e+03, 1.e+02, 1.e-01, 1.e+01],\n",
       "       [1.e+05, 1.e+03, 1.e+02, 1.e-01, 2.e+01]])"
      ]
     },
     "execution_count": 54,
     "metadata": {},
     "output_type": "execute_result"
    }
   ],
   "source": [
    "keys[filter_ind]"
   ]
  },
  {
   "cell_type": "code",
   "execution_count": null,
   "metadata": {},
   "outputs": [
    {
     "name": "stdout",
     "output_type": "stream",
     "text": [
      "[-0.49821881]\n"
     ]
    },
    {
     "data": {
      "text/plain": [
       "[<matplotlib.lines.Line2D at 0x2a6846450>]"
      ]
     },
     "metadata": {},
     "output_type": "display_data"
    },
    {
     "data": {
      "image/png": "[encoded data removed]",
      "text/plain": [
       "<Figure size 640x480 with 1 Axes>"
      ]
     },
     "metadata": {},
     "output_type": "display_data"
    }
   ],
   "source": [
    "from scipy.stats import zipf\n",
    "from collections import Counter\n",
    "import matplotlib.pyplot as plt\n",
    "from sklearn.linear_model import RANSACRegressor, LinearRegression\n",
    "distr = zipf(7.)\n",
    "sample = distr.rvs(5000)\n",
    "counts = Counter(sample)\n",
    "counts = dict(filter(lambda x: x[1] > 1, counts.items()))\n",
    "X = np.log(np.array(list(counts.keys()))).reshape(-1, 1)\n",
    "y = np.log(np.array(list(counts.values())))\n",
    "y = y / np.sum(y)\n",
    "\n",
    "\n",
    "model = LinearRegression().fit(X, y)\n",
    "print(model.coef_)\n",
    "plt.plot(X, y, '.')\n"
   ]
  }
 ],
 "metadata": {
  "kernelspec": {
   "display_name": "base",
   "language": "python",
   "name": "python3"
  },
  "language_info": {
   "codemirror_mode": {
    "name": "ipython",
    "version": 3
   },
   "file_extension": ".py",
   "mimetype": "text/x-python",
   "name": "python",
   "nbconvert_exporter": "python",
   "pygments_lexer": "ipython3",
   "version": "3.11.4"
  }
 },
 "nbformat": 4,
 "nbformat_minor": 2
}
